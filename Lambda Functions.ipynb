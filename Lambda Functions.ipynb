{
 "cells": [
  {
   "cell_type": "markdown",
   "id": "c2ca3344",
   "metadata": {},
   "source": [
    "# Explaining Lambda Functions with a Caesar Cipher\n",
    "\n",
    "This is a less trivial example of lambda functions than the common \"adder\" function routinely seen with other explanations."
   ]
  },
  {
   "cell_type": "markdown",
   "id": "daebdfc6",
   "metadata": {},
   "source": [
    "### What is a Caesar Cipher?\n",
    "\n",
    "A Casear Cipher is an encryption method where each letter in a message is replaced by a fixed \"shift\" in the alphabet. A Caesar Cipher with a shift of 1 would replace letters as follows: A->B, B->C, ... Z->A. So \"CAT\" would become \"DBU\" with this shift of 1.\n",
    "\n",
    "In it's basic form, a Caesar Cipher is blind to capitalization and only shifts letters. In our example here, capitalization will be preserved. Numbers and special characters will remain fixed."
   ]
  },
  {
   "cell_type": "markdown",
   "id": "9b360eca",
   "metadata": {},
   "source": [
    "#### We will use lambda functions to streamline repeated calls to the CaesarCipher functions.\n",
    "\n",
    "The following cell defines the function CaesarCipher which requires two inputs: the string to be encrypted and the magnitude of the shift to use. You may skip over understanding the interior of this function and proceed to the next cell if you just want to see lambda functions."
   ]
  },
  {
   "cell_type": "code",
   "execution_count": 1,
   "id": "6d8d0e55",
   "metadata": {},
   "outputs": [],
   "source": [
    "def CaesarCipher (string, shift):\n",
    "    \n",
    "    # Define the alphabet in lowercase and uppercase\n",
    "    lower_alphabet = \"abcdefghijklmnopqrstuvwxyz\"\n",
    "    upper_alphabet = lower_alphabet.upper()\n",
    "    \n",
    "    # Create an empty list in which to build the encrypted string\n",
    "    encrypted_string = []\n",
    "    \n",
    "    # Loop through the string, identifying each letter and it's correct substitution\n",
    "    for character in string:\n",
    "        if lower_alphabet.find(character) != -1:\n",
    "            # Shift the character within the lowercase alphabet\n",
    "            replacement = (lower_alphabet.find(character) + shift) % len(lower_alphabet)\n",
    "            encrypted_string.append(lower_alphabet[replacement])\n",
    "        elif upper_alphabet.find(character) != -1:\n",
    "            # Shift the character within the uppercase alphabet\n",
    "            replacement = (upper_alphabet.find(character) + shift) % len(upper_alphabet)\n",
    "            encrypted_string.append(upper_alphabet[replacement])\n",
    "        else:\n",
    "            # Do not shift the character since it isn't a letter\n",
    "            encrypted_string.append(character)\n",
    "            \n",
    "    # Combine the replacement characters into a single string and return\n",
    "    return \"\".join(encrypted_string)\n",
    "    "
   ]
  },
  {
   "cell_type": "markdown",
   "id": "d065959d",
   "metadata": {},
   "source": [
    "#### Let's use lambda functions to create some shorthand for ourselves.\n",
    "\n",
    "Suppose there are a couple shifts that we want to use over and over in our code. Let's say our code universally uses a shift of 5 for encryption (and -5 for decryption)."
   ]
  },
  {
   "cell_type": "code",
   "execution_count": 2,
   "id": "9b4e4389",
   "metadata": {},
   "outputs": [],
   "source": [
    "# Define the Caesar shift that we will be using\n",
    "SHIFT = 5\n",
    "\n",
    "# Define our encryption and decryption functions that will be used based on the declared value CaesarShift\n",
    "Encrypt = lambda string: CaesarCipher(string, SHIFT)\n",
    "Decrypt = lambda string: CaesarCipher(string, -SHIFT)"
   ]
  },
  {
   "cell_type": "markdown",
   "id": "5a955f12",
   "metadata": {},
   "source": [
    "With the shorthand above, we obtain both a shorter function name and a shorter list of inputs.\n",
    "\n",
    "Note that <code style=\"color:green\">lambda</code> plays the role of <code style=\"color:green\">def</code>. See how the two definitions correspond below.\n",
    "\n",
    "```Python\n",
    "          Encrypt = lambda string: CaesarCipher(string, CaesarShift)\n",
    "\n",
    "          def Encrypt (string):\n",
    "               return CaesarCipher(string, CaesarShift)\n",
    "```\n",
    "\n",
    "We can write out the two function definitions in the abstract as follows:\n",
    "\n",
    "```Python\n",
    "          FunctionName = lambda input: output\n",
    "\n",
    "          def FunctionName (input):\n",
    "               return output\n",
    "```"
   ]
  },
  {
   "cell_type": "code",
   "execution_count": 3,
   "id": "3ff7111b",
   "metadata": {},
   "outputs": [
    {
     "name": "stdout",
     "output_type": "stream",
     "text": [
      "Qjy'x xfd bj mfaj xtrj rjxxflj bj bfsy yt mnij.\n",
      "Let's say we have some message we want to hide.\n"
     ]
    }
   ],
   "source": [
    "message = \"Let's say we have some message we want to hide.\"\n",
    "secret = Encrypt(message)\n",
    "\n",
    "print(secret)\n",
    "print(Decrypt(secret))"
   ]
  },
  {
   "cell_type": "markdown",
   "id": "f8b409d0",
   "metadata": {},
   "source": [
    "#### Let's look at an alternate way to get to the same shorthand.\n",
    "\n",
    "Maybe we are working with more than one Caesar shift and we want a really short and clean way to define our encryption algorithm in the moment. Perhaps we are juggling a lot of different encyption algorithms, so each one needs a nice, short, intuitive way to be called."
   ]
  },
  {
   "cell_type": "code",
   "execution_count": 4,
   "id": "a3e525a8",
   "metadata": {},
   "outputs": [],
   "source": [
    "def Caesar (shift):\n",
    "    return lambda string: CaesarCipher(string, shift)\n",
    "\n",
    "Encrypt = Caesar(5)\n",
    "Decrypt = Caesar(-5)"
   ]
  },
  {
   "cell_type": "code",
   "execution_count": 5,
   "id": "ed395bce",
   "metadata": {},
   "outputs": [
    {
     "name": "stdout",
     "output_type": "stream",
     "text": [
      "Mjd ymjwj fsi mtbid! Qjy'x it xtrj jshwduynts flfns.\n",
      "Hey there and howdy! Let's do some encryption again.\n"
     ]
    }
   ],
   "source": [
    "message = \"Hey there and howdy! Let's do some encryption again.\"\n",
    "secret = Encrypt(message)\n",
    "\n",
    "print(secret)\n",
    "print(Decrypt(secret))"
   ]
  }
 ],
 "metadata": {
  "kernelspec": {
   "display_name": "Python 3.9.7 ('base')",
   "language": "python",
   "name": "python3"
  },
  "language_info": {
   "codemirror_mode": {
    "name": "ipython",
    "version": 3
   },
   "file_extension": ".py",
   "mimetype": "text/x-python",
   "name": "python",
   "nbconvert_exporter": "python",
   "pygments_lexer": "ipython3",
   "version": "3.9.7"
  },
  "vscode": {
   "interpreter": {
    "hash": "ad2bdc8ecc057115af97d19610ffacc2b4e99fae6737bb82f5d7fb13d2f2c186"
   }
  }
 },
 "nbformat": 4,
 "nbformat_minor": 5
}
