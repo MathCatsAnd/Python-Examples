{
 "cells": [
  {
   "cell_type": "markdown",
   "id": "c2ca3344",
   "metadata": {},
   "source": [
    "# Explaining Lambda Functions with a Caesar Cipher\n",
    "\n",
    "This is a less trivial example of lambda functions than the common \"adder\" functions routinely seen with explanations about lambda functions."
   ]
  },
  {
   "cell_type": "markdown",
   "id": "daebdfc6",
   "metadata": {},
   "source": [
    "### What is a Caesar Cipher?\n",
    "\n",
    "A Casear Cipher is an encryption method where each letter in a message is replaced by a fixed \"shift\" in the alphabet. A Caesar Cipher with a shift of 1 would replace letters thusly: A->B, B->C, ... Z->A. So \"CAT\" would become \"DBU\" with a shift of 1.\n",
    "\n",
    "In it's basic form, Caesar Cipher is blind to capitalization and only shifts letters. In our example here, capitalization will be preserved and we will shift any numerical digits that appear as well (just for fun)."
   ]
  },
  {
   "cell_type": "markdown",
   "id": "9b360eca",
   "metadata": {},
   "source": [
    "#### We will use lambda functions to streamline repeated calls to the CaesarCipher functions.\n",
    "\n",
    "The follow cell defines the function CaesarCipher which requires two inputs: the string to be encrypted and the magnitude of the shift to use. You may skip over understanding the interior of this function and proceed to the next cell if you just want to see the lambda function."
   ]
  },
  {
   "cell_type": "code",
   "execution_count": 1,
   "id": "6d8d0e55",
   "metadata": {},
   "outputs": [],
   "source": [
    "def CaesarCipher (string, shift):\n",
    "    \n",
    "    # Define the alphabet in lowercase and uppercase\n",
    "    lower_alphabet = \"abcdefghijklmnopqrstuvwxyz\"\n",
    "    upper_alphabet = lower_alphabet.upper()\n",
    "    digits = \"0123456789\"\n",
    "    \n",
    "    # Create an empty list in which to build the encrypted string\n",
    "    encrypted_string = []\n",
    "    \n",
    "    # Loop through the string, identifying each letter and it's correct substitution\n",
    "    for character in string:\n",
    "        if lower_alphabet.find(character) != -1:\n",
    "            # Shift the character within the lowercase alphabet\n",
    "            replacement = (lower_alphabet.find(character) + shift) % len(lower_alphabet)\n",
    "            encrypted_string.append(lower_alphabet[replacement])\n",
    "        elif upper_alphabet.find(character) != -1:\n",
    "            # Shift the character within the uppercase alphabet\n",
    "            replacement = (upper_alphabet.find(character) + shift) % len(upper_alphabet)\n",
    "            encrypted_string.append(upper_alphabet[replacement])\n",
    "        elif digits.find(character) != -1:\n",
    "            # Shift the character within digits\n",
    "            replacement = (digits.find(character) + shift) % len(digits)\n",
    "            encrypted_string.append(digits[replacement])\n",
    "        else:\n",
    "            # Do not shift the character since it isn't a letter or number\n",
    "            encrypted_string.append(character)\n",
    "            \n",
    "    # Combine the replacement characters into a single string and return\n",
    "    return \"\".join(encrypted_string)\n",
    "    "
   ]
  },
  {
   "cell_type": "markdown",
   "id": "d065959d",
   "metadata": {},
   "source": [
    "#### Now let's use lambda functions to create some shorthand for ourselves.\n",
    "\n",
    "Suppose there are a couple shifts that we want to use over and over in our code. Let's say our code universally uses a shift of 5 for encryption."
   ]
  },
  {
   "cell_type": "code",
   "execution_count": 2,
   "id": "9b4e4389",
   "metadata": {},
   "outputs": [],
   "source": [
    "# Define the Caesar shift that we will be using\n",
    "CaesarShift = 5\n",
    "\n",
    "# Define our encryption and decryption functions that will be used based on the declared value CaesarShift\n",
    "Encrypt = lambda string: CaesarCipher(string, CaesarShift)\n",
    "Decrypt = lambda string: CaesarCipher(string, -CaesarShift)"
   ]
  },
  {
   "cell_type": "markdown",
   "id": "5a955f12",
   "metadata": {},
   "source": [
    "With the shorthand above, we obtain both a shorter function name and a shorter list of inputs.\n",
    "\n",
    "Note that\n",
    "```Python\n",
    "Encrypt = lambda string: CaesarCipher(string, CaesarShift)\n",
    "\n",
    "```\n",
    "\n",
    "stands in place of\n",
    "\n",
    "```Python\n",
    "def Encrypt (string):\n",
    "     return CaesarCipher(string, CaesarShift)\n",
    "```\n",
    "\n",
    "<code style=\"color:green\">lambda</code> plays the role of <code style=\"color:green\">def</code>.\n",
    "\n",
    "In the abstract\n",
    "```Python\n",
    "FunctionName = lambda input: output\n",
    "\n",
    "```\n",
    "\n",
    "stands in place of\n",
    "\n",
    "```Python\n",
    "def FunctionName (input):\n",
    "     return output\n",
    "```"
   ]
  },
  {
   "cell_type": "code",
   "execution_count": 3,
   "id": "3ff7111b",
   "metadata": {},
   "outputs": [
    {
     "name": "stdout",
     "output_type": "stream",
     "text": [
      "Qjy'x xfd bj mfaj xtrj rjxxflj bj bfsy yt mnij.\n",
      "Let's say we have some message we want to hide.\n"
     ]
    }
   ],
   "source": [
    "message = \"Let's say we have some message we want to hide.\"\n",
    "secret = Encrypt(message)\n",
    "\n",
    "print(secret)\n",
    "print(Decrypt(secret))"
   ]
  },
  {
   "cell_type": "markdown",
   "id": "f8b409d0",
   "metadata": {},
   "source": [
    "#### Let's look at an alternate way to get to the same shorthand.\n",
    "\n",
    "Maybe we are working with more than one Caesar shift and we want a really short and clean way to define our encryption algorithm in the moment. Perhaps we are juggling a lot of different encyption algorithms, so each one needs a nice, short, intuitive way to be called."
   ]
  },
  {
   "cell_type": "code",
   "execution_count": 4,
   "id": "a3e525a8",
   "metadata": {},
   "outputs": [],
   "source": [
    "def Caesar (shift):\n",
    "    return lambda string: CaesarCipher(string, shift)\n",
    "\n",
    "Encrypt = Caesar(5)\n",
    "Decrypt = Caesar(-5)"
   ]
  },
  {
   "cell_type": "code",
   "execution_count": 5,
   "id": "ed395bce",
   "metadata": {},
   "outputs": [
    {
     "name": "stdout",
     "output_type": "stream",
     "text": [
      "Mjd ymjwj fsi mtbid! Qjy'x it xtrj jshwduynts flfns.\n",
      "Hey there and howdy! Let's do some encryption again.\n"
     ]
    }
   ],
   "source": [
    "message = \"Hey there and howdy! Let's do some encryption again.\"\n",
    "secret = Encrypt(message)\n",
    "\n",
    "print(secret)\n",
    "print(Decrypt(secret))"
   ]
  },
  {
   "cell_type": "code",
   "execution_count": null,
   "id": "06b272a5",
   "metadata": {},
   "outputs": [],
   "source": []
  }
 ],
 "metadata": {
  "kernelspec": {
   "display_name": "Python 3 (ipykernel)",
   "language": "python",
   "name": "python3"
  },
  "language_info": {
   "codemirror_mode": {
    "name": "ipython",
    "version": 3
   },
   "file_extension": ".py",
   "mimetype": "text/x-python",
   "name": "python",
   "nbconvert_exporter": "python",
   "pygments_lexer": "ipython3",
   "version": "3.9.7"
  }
 },
 "nbformat": 4,
 "nbformat_minor": 5
}
